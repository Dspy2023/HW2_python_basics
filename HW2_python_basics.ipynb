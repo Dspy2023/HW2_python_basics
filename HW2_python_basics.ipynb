{
 "cells": [
  {
   "cell_type": "markdown",
   "metadata": {},
   "source": [
    "##  作業提醒\n",
    "1. 繳交作業的檔名請用**中文姓名** :\n",
    "> HW1_self_introduction_陳韋伶.ipynb \n",
    ">\n",
    "> HW2_python_basics_陳韋伶.ipynb\n",
    "\n",
    "2. 答案一定要 `print` 出來才會計分！"
   ]
  },
  {
   "cell_type": "markdown",
   "metadata": {},
   "source": [
    "## 題目一 (30%)\n",
    "\n",
    "1. 請定義一個名為 `numbers` 的list，其中包含以下數值：10, 20, 30, 40, 50。\n",
    "2. 計算以下兩個數值：\n",
    "  - `numbers` 中所有數字的總和，並將結果指派給一個變數 `total`。<br>\n",
    "  - `numbers` 中所有數字的平均值，並將結果指派給一個變數 `average`。\n",
    "3. 建立一個新的list叫 `squared_numbers` ，其中包含 `numbers` 中每個數字的平方。\n",
    "4. 使用 `print` 將結果印出來：\n",
    "    ```\n",
    "    print(\"總和:\", total)\n",
    "    print(\"平均值:\", average)\n",
    "    print(\"平方數:\", squared_numbers)\n",
    "    ```\n"
   ]
  },
  {
   "cell_type": "markdown",
   "metadata": {},
   "source": [
    "## 題目二 (40%)\n",
    "\n",
    "以下為一個包含亞洲國家及其首都的字典，但其中有一些錯誤資訊：\n",
    "\n",
    "```\n",
    "asian_countries = {\n",
    "    'Taiwan': 'Taipei',\n",
    "    'Japan': 'Kyoto',\n",
    "    'South Korea': 'Seoul',\n",
    "    'India': 'New Delhi',\n",
    "    'Germany': 'Berlin'\n",
    "    }\n",
    "```\n",
    "1. 將 `asian_countries` 印出來：\n",
    "    ```\n",
    "    print('舊字典:', asian_countries)\n",
    "    ```\n",
    "2.  更新 `asian_countries`  ，並將更新後的字典印出來 ：\n",
    "    - 將Japan的首都更正為Tokyo\n",
    "    - 將Germany從字典中刪掉\n",
    "    - 將Vietnam及其首都Hanoi新增到字典中\n",
    "\n",
    "    ```\n",
    "    print('新字典:', asian_countries)\n",
    "    ```\n",
    "3. 將國家按照字母排序，並將排序後的結果指派給一個變數 `sorted_asian_countries` 。\n",
    "4. 將 `sorted_asian_countries` 中的每個key:value pair印出來。\n"
   ]
  },
  {
   "cell_type": "markdown",
   "metadata": {},
   "source": [
    "## 題目三 (30%)\n",
    "\n",
    "以下為一個包含不同資料型態的list：\n",
    "\n",
    "```\n",
    "mixed_list = [7, 2.6, \"3\", \"4.5\", \"five\", 18]\n",
    "```\n",
    "1. 請找出 `mixed_list` 中所有的整數，將結果儲存到一個list `int_list` 並印出來。\n",
    "2. 將 `int_list` 中的整數轉換為字串，將結果儲存到新的list `str_list` 並印出來。\n",
    "3. 將 `str_list` 中所有元素的**資料類型**分別印出來。"
   ]
  },
  {
   "cell_type": "markdown",
   "metadata": {},
   "source": [
    "## 加分題 (10%)\n",
    "\n",
    "以下為歌手魏如萱的歌曲《你啊你啊》其中一段歌詞（取自Google）：\n",
    "\n",
    "> 欸嗚欸嗚欸欸 嗚嗚嗚喔喔 咦耶咦耶欸 嗚嗚嗚喔喔 咦耶咦耶欸 嗚喔喔 喔 <br>\n",
    "> 欸嗚欸嗚欸欸 嗚嗚嗚喔喔 咦耶咦耶欸 嗚嗚嗚喔喔 咦耶嘿 嗚喔喔喔\n",
    "\n",
    "請分別計算這整段歌詞中**總共**有幾個詞彙類型（type）和詞彙數量（token）。用一句舉例：\n",
    "> 「欸嗚欸嗚欸欸」：這一句有2個type，6個token"
   ]
  }
 ],
 "metadata": {
  "language_info": {
   "name": "python"
  },
  "orig_nbformat": 4
 },
 "nbformat": 4,
 "nbformat_minor": 2
}
